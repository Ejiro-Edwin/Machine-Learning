{
 "cells": [
  {
   "cell_type": "code",
   "execution_count": 50,
   "metadata": {
    "scrolled": true
   },
   "outputs": [
    {
     "name": "stdout",
     "output_type": "stream",
     "text": [
      "Coefficients:\n",
      " [-4.02872657]\n",
      "Intercept:\n",
      " 194.5221290669885\n",
      "Mean squared error: 4.62\n",
      "Variance score: 0.87\n"
     ]
    },
    {
     "data": {
      "image/png": "[encoded data removed]",
      "text/plain": [
       "<matplotlib.figure.Figure at 0x7fe49a1c16d8>"
      ]
     },
     "metadata": {},
     "output_type": "display_data"
    }
   ],
   "source": [
    "#import libraries\n",
    "import matplotlib.pyplot as plt                                 #for plotting graph of x,y\n",
    "import numpy as np                                             #for using data as array\n",
    "from sklearn import linear_model                              #for model we want to predict by\n",
    "import pandas as pd                                          #for loading csv file data to numpy array\n",
    "from sklearn.metrics import mean_squared_error, r2_score     #for mean error and variance calculation\n",
    "from sklearn.model_selection import train_test_split        #splitting training and testing sets\n",
    "\n",
    "#load dataset\n",
    "dataset=pd.read_csv(\"weather.csv\")\n",
    "\n",
    "#splitting to independent(x) and dependent(y) variables\n",
    "x=dataset.iloc[:,2].values\n",
    "y=dataset.iloc[:,3].values\n",
    "\n",
    "#train and test data split\n",
    "x_train, x_test, y_train, y_test = train_test_split(x, y, test_size = 1/3, random_state = 0)\n",
    "\n",
    "#reshaping array to convert from 1D to 2D array\n",
    "x_test=x_test.reshape(-1,1)\n",
    "x_train=x_train.reshape(-1,1)\n",
    "\n",
    "#\"lin_reg\" is our model calling model \"LinearRegression()\"\n",
    "lin_reg=linear_model.LinearRegression()\n",
    "\n",
    "#fitting our data in linear regression model\n",
    "lin_reg.fit(x_train,y_train)\n",
    "\n",
    "#making predictions\n",
    "lin_reg_pred=lin_reg.predict(x_test)\n",
    "\n",
    "#coef_ and intercept_ are coefficients and intercepts resp. for our model\n",
    "print(\"Coefficients:\\n\",lin_reg.coef_)\n",
    "print(\"Intercept:\\n\",lin_reg.intercept_)\n",
    "\n",
    "# The mean squared error\n",
    "print(\"Mean squared error: %.2f\"\n",
    "      % mean_squared_error(y_test, lin_reg_pred))\n",
    "\n",
    "# Explained variance score: 1 is perfect prediction\n",
    "print('Variance score: %.2f' % r2_score(y_test, lin_reg_pred))\n",
    "\n",
    "#Plotting the graph for test dataset\n",
    "plt.scatter(x_test, y_test, color = 'red')\n",
    "plt.plot(x_test, lin_reg_pred, color = 'blue')\n",
    "plt.title('Temperature vs Humidity(Test set)')\n",
    "plt.xlabel('Temperature')\n",
    "plt.ylabel('Relative Humidity')\n",
    "plt.show()"
   ]
  },
  {
   "cell_type": "code",
   "execution_count": null,
   "metadata": {},
   "outputs": [],
   "source": []
  }
 ],
 "metadata": {
  "kernelspec": {
   "display_name": "Python 3",
   "language": "python",
   "name": "python3"
  },
  "language_info": {
   "codemirror_mode": {
    "name": "ipython",
    "version": 3
   },
   "file_extension": ".py",
   "mimetype": "text/x-python",
   "name": "python",
   "nbconvert_exporter": "python",
   "pygments_lexer": "ipython3",
   "version": "3.6.4"
  }
 },
 "nbformat": 4,
 "nbformat_minor": 2
}
